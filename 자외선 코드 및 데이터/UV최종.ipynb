{
 "cells": [
  {
   "cell_type": "code",
   "execution_count": null,
   "metadata": {
    "colab": {
     "base_uri": "https://localhost:8080/"
    },
    "id": "7hXVTvyFO2-b",
    "outputId": "918cf4cb-6d0e-487f-fbe4-edd0452c2b15"
   },
   "outputs": [
    {
     "name": "stdout",
     "output_type": "stream",
     "text": [
      "Mounted at /content/drive\n"
     ]
    }
   ],
   "source": [
    "from sklearn.preprocessing import StandardScaler\n",
    "from sklearn.model_selection import train_test_split\n",
    "from sklearn.model_selection import KFold\n",
    "\n",
    "from tqdm.notebook import tqdm\n",
    "\n",
    "from sklearn.metrics import mean_squared_error\n",
    "from math import sqrt\n",
    "\n",
    "import warnings #경고 미출력\n",
    "\n",
    "import lightgbm as lgbm\n",
    "from lightgbm import plot_importance\n",
    "\n",
    "import pandas as pd\n",
    "import numpy as np\n",
    "import matplotlib.pyplot as plt\n",
    "import seaborn as sns\n",
    "import os\n",
    "import missingno as msno \n",
    "\n",
    "import pandas_profiling\n",
    "from  tqdm import tqdm_notebook\n",
    "from google.colab import drive\n",
    "\n",
    "warnings.filterwarnings('ignore')\n",
    "drive.mount(\"/content/drive\")"
   ]
  },
  {
   "cell_type": "code",
   "execution_count": null,
   "metadata": {
    "id": "v6HuvvXEO8zo"
   },
   "outputs": [],
   "source": [
    "# 학습 데이터와 검증 데이터 불러오기\n",
    "train = \"/content/drive/MyDrive/tempuv.pkl\"\n",
    "test =  \"/content/drive/MyDrive/uv_test.csv\"\n",
    "\n",
    "train = pd.read_pickle(train)\n",
    "test = pd.read_csv(test)"
   ]
  },
  {
   "cell_type": "code",
   "execution_count": null,
   "metadata": {
    "id": "f8tf6u7msf7C"
   },
   "outputs": [],
   "source": [
    "test.drop(\"Unnamed: 0\", axis=1, inplace=True)\n",
    "test.columns = train.columns\n",
    "test = test.astype({\"landtype\": \"float64\"})"
   ]
  },
  {
   "cell_type": "markdown",
   "metadata": {
    "id": "rg8HWgAou5xf"
   },
   "source": [
    "#### 학습데이터 전처리"
   ]
  },
  {
   "cell_type": "code",
   "execution_count": null,
   "metadata": {
    "id": "2vYdgxtl0rCP"
   },
   "outputs": [],
   "source": [
    "#학습 데이터에서 UV는 결측치인거 제거하기\n",
    "train = train.loc[train[\"UV\"]!=-999, train.columns]"
   ]
  },
  {
   "cell_type": "code",
   "execution_count": null,
   "metadata": {
    "id": "QcGOTkBL0pdX"
   },
   "outputs": [],
   "source": [
    "# 학습 데이터 band 결측치 행 제거\n",
    "bands = ['band1', 'band2',\n",
    "       'band3', 'band4', 'band5', 'band6', 'band7', 'band8', 'band9', 'band10',\n",
    "       'band11', 'band12', 'band13', 'band14', 'band15', 'band16']\n",
    "for band in bands:\n",
    "    train = train.loc[train[band]!=-999, train.columns]\n",
    "\n",
    "#학습 데이터 UV 이상치 제거\n",
    "train = train.loc[train.UV<15, train.columns]"
   ]
  },
  {
   "cell_type": "markdown",
   "metadata": {
    "id": "TSyi1k_au7_T"
   },
   "source": [
    "#### 검증데이터 전처리"
   ]
  },
  {
   "cell_type": "code",
   "execution_count": null,
   "metadata": {
    "id": "Rxl_0E5JuCa3"
   },
   "outputs": [],
   "source": [
    "#interpolate 사용하기위해 -999값을 nan값으로 변환\n",
    "for band in bands:\n",
    "    test.loc[test[band]==-999, band] = np.nan"
   ]
  },
  {
   "cell_type": "code",
   "execution_count": null,
   "metadata": {
    "id": "Jdhxe6JOvbVk"
   },
   "outputs": [],
   "source": [
    "#Band값 보간\n",
    "test.sort_values(by=[\"STN\", \"yyyymmdd\"], inplace=True)\n",
    "test = test.interpolate(method='values', limit=1)"
   ]
  },
  {
   "cell_type": "code",
   "execution_count": null,
   "metadata": {
    "id": "iOk6MsfexPo_"
   },
   "outputs": [],
   "source": [
    "test.sort_index(inplace=True)"
   ]
  },
  {
   "cell_type": "markdown",
   "metadata": {
    "id": "7__WOhxAxydz"
   },
   "source": [
    "### 컬럼 생성"
   ]
  },
  {
   "cell_type": "code",
   "execution_count": null,
   "metadata": {
    "id": "BI5F8A8iz0oG"
   },
   "outputs": [],
   "source": [
    "def Year(x):\n",
    "    x = str(x)\n",
    "    return int(x[:4])\n",
    "\n",
    "def Month(x):\n",
    "    x = str(x)\n",
    "    return int(x[4:6])\n",
    "\n",
    "def Day(x):\n",
    "    x = str(x)\n",
    "    return int(x[6:8])\n",
    "\n",
    "def Hour(x):\n",
    "    x = str(x)\n",
    "    if len(x)==2:\n",
    "        result = 0\n",
    "    elif len(x)==3:\n",
    "        result = int(x[0])\n",
    "    else:\n",
    "        result = int(x[:2])\n",
    "    return result\n",
    "\n",
    "def Min(x):\n",
    "    x = str(x)\n",
    "    if len(x)==1:\n",
    "        result = 0\n",
    "    elif len(x)>=2:\n",
    "        result = int(x[-2:])\n",
    "    return result"
   ]
  },
  {
   "cell_type": "code",
   "execution_count": null,
   "metadata": {
    "id": "L1rz55Bt0AI1"
   },
   "outputs": [],
   "source": [
    "#yyyymmdd, hhnn 변환 \n",
    "train[\"year\"] = train['yyyymmdd'].map(Year)\n",
    "train[\"month\"] = train['yyyymmdd'].map(Month)\n",
    "train[\"day\"] = train['yyyymmdd'].map(Day)\n",
    "train[\"hour\"] = train['hhnn'].map(Hour)\n",
    "train[\"min\"] = train['hhnn'].map(Min)\n",
    "\n",
    "test[\"year\"] = test['yyyymmdd'].map(Year)\n",
    "test[\"month\"] = test['yyyymmdd'].map(Month)\n",
    "test[\"day\"] = test['yyyymmdd'].map(Day)\n",
    "test[\"hour\"] = test['hhnn'].map(Hour)\n",
    "test[\"min\"] = test['hhnn'].map(Min)"
   ]
  },
  {
   "cell_type": "code",
   "execution_count": null,
   "metadata": {
    "id": "2fJKpiRb0EGN"
   },
   "outputs": [],
   "source": [
    "#hour sin, cos 변환\n",
    "train['sin_time'] = np.sin(2*np.pi*train.hour/24)\n",
    "train['cos_time'] = np.cos(2*np.pi*train.hour/24)\n",
    "\n",
    "test['sin_time'] = np.sin(2*np.pi*test.hour/24)\n",
    "test['cos_time'] = np.cos(2*np.pi*test.hour/24)"
   ]
  },
  {
   "cell_type": "code",
   "execution_count": null,
   "metadata": {
    "id": "a16gAiDhbR7A"
   },
   "outputs": [],
   "source": [
    "#month, landtype 원핫인코딩\n",
    "train = pd.get_dummies(train, columns = ['month'])\n",
    "for i in range(12):\n",
    "    if i+1 == 6:\n",
    "        test = pd.get_dummies(test, columns = ['month'])\n",
    "    else:\n",
    "        test[f\"month_{i+1}\"] = np.zeros(test.shape[0])\n",
    "\n",
    "train = pd.get_dummies(train, columns = ['landtype'])\n",
    "test = pd.get_dummies(test, columns = ['landtype'])"
   ]
  },
  {
   "cell_type": "code",
   "execution_count": null,
   "metadata": {
    "id": "4lKN5aeezNxF"
   },
   "outputs": [],
   "source": [
    "#야간과 주간 나누기\n",
    "train_day = train.loc[train.solarza<90, train.columns]\n",
    "train_night = train.loc[train.solarza>=90, train.columns]\n",
    "\n",
    "test_day = test.loc[test.solarza<90, test.columns]\n",
    "test_night = test.loc[test.solarza>=90, test.columns]"
   ]
  },
  {
   "cell_type": "code",
   "execution_count": null,
   "metadata": {
    "colab": {
     "base_uri": "https://localhost:8080/"
    },
    "id": "ji5Um1n7yFQq",
    "outputId": "41817265-86db-4a14-9345-1e9081c31506"
   },
   "outputs": [
    {
     "name": "stdout",
     "output_type": "stream",
     "text": [
      "True\n",
      "True\n"
     ]
    }
   ],
   "source": [
    "print(train.shape[0]==train_day.shape[0]+train_night.shape[0])\n",
    "print(test.shape[0]==test_day.shape[0]+test_night.shape[0])"
   ]
  },
  {
   "cell_type": "code",
   "execution_count": null,
   "metadata": {
    "id": "2EPihNunb6_V"
   },
   "outputs": [],
   "source": [
    "train_day.reset_index(drop=True, inplace=True)"
   ]
  },
  {
   "cell_type": "markdown",
   "metadata": {
    "id": "PRuhDH-Y7HHM"
   },
   "source": [
    "# 야간 모델 예측"
   ]
  },
  {
   "cell_type": "code",
   "execution_count": null,
   "metadata": {
    "id": "DTXRg2S17GY4"
   },
   "outputs": [],
   "source": [
    "test_night[\"UV\"] = 0"
   ]
  },
  {
   "cell_type": "markdown",
   "metadata": {
    "id": "eMaKb1Ve7QH3"
   },
   "source": [
    "# 주간 모델 예측"
   ]
  },
  {
   "cell_type": "code",
   "execution_count": null,
   "metadata": {
    "id": "4RxZ7lBZ7UsH"
   },
   "outputs": [],
   "source": [
    "target_col = 'UV'\n",
    "drop_cols = [target_col,'yyyymmdd', 'hhnn', 'year', \"day\", 'hour', 'min', \"STN\"]\n",
    "train_label = train_day[target_col]\n",
    "test_day[target_col] = np.NaN"
   ]
  },
  {
   "cell_type": "code",
   "execution_count": null,
   "metadata": {
    "colab": {
     "base_uri": "https://localhost:8080/"
    },
    "id": "GuGBgAsx8cs0",
    "outputId": "4e126632-982a-4127-9358-8e99cc38ad50"
   },
   "outputs": [
    {
     "name": "stdout",
     "output_type": "stream",
     "text": [
      "Fitting estimator with 40 features.\n",
      "Fitting estimator with 39 features.\n",
      "Fitting estimator with 38 features.\n",
      "Fitting estimator with 37 features.\n",
      "Fitting estimator with 36 features.\n",
      "Fitting estimator with 35 features.\n",
      "Fitting estimator with 34 features.\n",
      "Fitting estimator with 33 features.\n",
      "Fitting estimator with 32 features.\n",
      "Fitting estimator with 31 features.\n",
      "Fitting estimator with 30 features.\n",
      "Fitting estimator with 29 features.\n",
      "Fitting estimator with 28 features.\n",
      "Fitting estimator with 27 features.\n",
      "Fitting estimator with 26 features.\n",
      "Fitting estimator with 25 features.\n",
      "Fitting estimator with 24 features.\n",
      "Fitting estimator with 23 features.\n",
      "Fitting estimator with 22 features.\n",
      "Fitting estimator with 21 features.\n",
      "Fitting estimator with 20 features.\n",
      "Fitting estimator with 19 features.\n",
      "Fitting estimator with 18 features.\n",
      "Fitting estimator with 17 features.\n",
      "Fitting estimator with 16 features.\n",
      "Fitting estimator with 15 features.\n",
      "Fitting estimator with 14 features.\n",
      "Fitting estimator with 13 features.\n",
      "Fitting estimator with 12 features.\n",
      "Fitting estimator with 11 features.\n",
      "Fitting estimator with 10 features.\n",
      "Fitting estimator with 9 features.\n",
      "Fitting estimator with 8 features.\n",
      "Fitting estimator with 7 features.\n",
      "Fitting estimator with 6 features.\n",
      "Fitting estimator with 5 features.\n",
      "Fitting estimator with 4 features.\n",
      "Fitting estimator with 3 features.\n",
      "Fitting estimator with 2 features.\n",
      "Fitting estimator with 40 features.\n",
      "Fitting estimator with 39 features.\n",
      "Fitting estimator with 38 features.\n",
      "Fitting estimator with 37 features.\n",
      "Fitting estimator with 36 features.\n",
      "Fitting estimator with 35 features.\n",
      "Fitting estimator with 34 features.\n",
      "Fitting estimator with 33 features.\n",
      "Fitting estimator with 32 features.\n",
      "Fitting estimator with 31 features.\n",
      "Fitting estimator with 30 features.\n",
      "Fitting estimator with 29 features.\n",
      "Fitting estimator with 28 features.\n",
      "Fitting estimator with 27 features.\n",
      "Fitting estimator with 26 features.\n",
      "Fitting estimator with 25 features.\n",
      "Fitting estimator with 24 features.\n",
      "Fitting estimator with 23 features.\n",
      "Fitting estimator with 22 features.\n",
      "Fitting estimator with 21 features.\n",
      "Fitting estimator with 20 features.\n",
      "Fitting estimator with 19 features.\n",
      "Fitting estimator with 18 features.\n",
      "Fitting estimator with 17 features.\n",
      "Fitting estimator with 16 features.\n",
      "Fitting estimator with 15 features.\n",
      "Fitting estimator with 14 features.\n",
      "Fitting estimator with 13 features.\n",
      "Fitting estimator with 12 features.\n",
      "Fitting estimator with 11 features.\n",
      "Fitting estimator with 10 features.\n",
      "Fitting estimator with 9 features.\n",
      "Fitting estimator with 8 features.\n",
      "Fitting estimator with 7 features.\n",
      "Fitting estimator with 6 features.\n",
      "Fitting estimator with 5 features.\n",
      "Fitting estimator with 4 features.\n",
      "Fitting estimator with 3 features.\n",
      "Fitting estimator with 2 features.\n",
      "Fitting estimator with 40 features.\n",
      "Fitting estimator with 39 features.\n",
      "Fitting estimator with 38 features.\n",
      "Fitting estimator with 37 features.\n",
      "Fitting estimator with 36 features.\n",
      "Fitting estimator with 35 features.\n",
      "Fitting estimator with 34 features.\n",
      "Fitting estimator with 33 features.\n",
      "Fitting estimator with 32 features.\n",
      "Fitting estimator with 31 features.\n",
      "Fitting estimator with 30 features.\n",
      "Fitting estimator with 29 features.\n",
      "Fitting estimator with 28 features.\n",
      "Fitting estimator with 27 features.\n",
      "Fitting estimator with 26 features.\n",
      "Fitting estimator with 25 features.\n",
      "Fitting estimator with 24 features.\n",
      "Fitting estimator with 23 features.\n",
      "Fitting estimator with 22 features.\n",
      "Fitting estimator with 21 features.\n",
      "Fitting estimator with 20 features.\n",
      "Fitting estimator with 19 features.\n",
      "Fitting estimator with 18 features.\n",
      "Fitting estimator with 17 features.\n",
      "Fitting estimator with 16 features.\n",
      "Fitting estimator with 15 features.\n",
      "Fitting estimator with 14 features.\n",
      "Fitting estimator with 13 features.\n",
      "Fitting estimator with 12 features.\n",
      "Fitting estimator with 11 features.\n",
      "Fitting estimator with 10 features.\n",
      "Fitting estimator with 9 features.\n",
      "Fitting estimator with 8 features.\n",
      "Fitting estimator with 7 features.\n",
      "Fitting estimator with 6 features.\n",
      "Fitting estimator with 5 features.\n",
      "Fitting estimator with 4 features.\n",
      "Fitting estimator with 3 features.\n",
      "Fitting estimator with 2 features.\n",
      "Fitting estimator with 40 features.\n",
      "Fitting estimator with 39 features.\n",
      "Fitting estimator with 38 features.\n",
      "Fitting estimator with 37 features.\n",
      "Fitting estimator with 36 features.\n",
      "Fitting estimator with 35 features.\n",
      "Fitting estimator with 34 features.\n",
      "Fitting estimator with 33 features.\n",
      "Fitting estimator with 32 features.\n",
      "Fitting estimator with 31 features.\n",
      "Fitting estimator with 30 features.\n",
      "Fitting estimator with 29 features.\n",
      "Fitting estimator with 28 features.\n",
      "Fitting estimator with 27 features.\n",
      "Fitting estimator with 26 features.\n",
      "Fitting estimator with 25 features.\n",
      "Fitting estimator with 24 features.\n",
      "Fitting estimator with 23 features.\n",
      "Fitting estimator with 22 features.\n",
      "Fitting estimator with 21 features.\n",
      "Fitting estimator with 20 features.\n",
      "Fitting estimator with 19 features.\n",
      "Fitting estimator with 18 features.\n",
      "Fitting estimator with 17 features.\n",
      "Fitting estimator with 16 features.\n",
      "Fitting estimator with 15 features.\n",
      "Fitting estimator with 14 features.\n",
      "Fitting estimator with 13 features.\n",
      "Fitting estimator with 12 features.\n",
      "Fitting estimator with 11 features.\n",
      "Fitting estimator with 10 features.\n",
      "Fitting estimator with 9 features.\n",
      "Fitting estimator with 8 features.\n",
      "Fitting estimator with 7 features.\n",
      "Fitting estimator with 6 features.\n",
      "Fitting estimator with 5 features.\n",
      "Fitting estimator with 4 features.\n",
      "Fitting estimator with 3 features.\n",
      "Fitting estimator with 2 features.\n",
      "Fitting estimator with 40 features.\n",
      "Fitting estimator with 39 features.\n",
      "Fitting estimator with 38 features.\n",
      "Fitting estimator with 37 features.\n",
      "Fitting estimator with 36 features.\n",
      "Fitting estimator with 35 features.\n",
      "Fitting estimator with 34 features.\n",
      "Fitting estimator with 33 features.\n",
      "Fitting estimator with 32 features.\n",
      "Fitting estimator with 31 features.\n",
      "Fitting estimator with 30 features.\n",
      "Fitting estimator with 29 features.\n",
      "Fitting estimator with 28 features.\n",
      "Fitting estimator with 27 features.\n",
      "Fitting estimator with 26 features.\n",
      "Fitting estimator with 25 features.\n",
      "Fitting estimator with 24 features.\n",
      "Fitting estimator with 23 features.\n",
      "Fitting estimator with 22 features.\n",
      "Fitting estimator with 21 features.\n",
      "Fitting estimator with 20 features.\n",
      "Fitting estimator with 19 features.\n",
      "Fitting estimator with 18 features.\n",
      "Fitting estimator with 17 features.\n",
      "Fitting estimator with 16 features.\n",
      "Fitting estimator with 15 features.\n",
      "Fitting estimator with 14 features.\n",
      "Fitting estimator with 13 features.\n",
      "Fitting estimator with 12 features.\n",
      "Fitting estimator with 11 features.\n",
      "Fitting estimator with 10 features.\n",
      "Fitting estimator with 9 features.\n",
      "Fitting estimator with 8 features.\n",
      "Fitting estimator with 7 features.\n",
      "Fitting estimator with 6 features.\n",
      "Fitting estimator with 5 features.\n",
      "Fitting estimator with 4 features.\n",
      "Fitting estimator with 3 features.\n",
      "Fitting estimator with 2 features.\n",
      "Fitting estimator with 40 features.\n",
      "Fitting estimator with 39 features.\n",
      "Fitting estimator with 38 features.\n",
      "Fitting estimator with 37 features.\n",
      "Fitting estimator with 36 features.\n",
      "Fitting estimator with 35 features.\n"
     ]
    }
   ],
   "source": [
    "from sklearn.feature_selection import RFECV\n",
    "\n",
    "target_col = 'UV'\n",
    "drop_cols = [target_col,'yyyymmdd', 'hhnn', 'year', \"day\", 'hour', 'min', \"STN\"]\n",
    "# LGBM params\n",
    "n_splits= 5\n",
    "NUM_BOOST_ROUND = 1000\n",
    "SEED = 1993\n",
    "random_state = 1\n",
    "lgbm_param = {'objective':'rmse',\n",
    "              'boosting_type': 'gbdt',\n",
    "              'random_state':random_state,\n",
    "              'learning_rate':0.1, #0.1\n",
    "              'subsample':0.7,\n",
    "              'tree_learner': 'serial',\n",
    "              'colsample_bytree':0.68,\n",
    "              'subsample_freq': 1,\n",
    "              'reg_lambda':7,\n",
    "              'reg_alpha': 5,\n",
    "              'num_leaves': 6600,\n",
    "              \"min_child_samples \":26,\n",
    "              \"max_depth\": 14,\n",
    "              'seed' : SEED\n",
    "            }\n",
    "\n",
    "reg_model = lgbm.LGBMRegressor(**lgbm_param)\n",
    "rfe = RFECV(estimator=reg_model, step=1, cv=KFold(n_splits=5, shuffle=True, random_state=1),\n",
    "            scoring=\"neg_mean_squared_error\", verbose=2) #shuffle=False\n",
    "rfe.fit(train_day.drop(drop_cols, 1), train_day[\"UV\"])\n",
    "\n",
    "df_rank = pd.DataFrame(data = {\"col\": list(train_day.drop(drop_cols, 1)), \"imp\": rfe.ranking_})\n",
    "use_cols = list(df_rank[df_rank[\"imp\"]==1][\"col\"])"
   ]
  },
  {
   "cell_type": "code",
   "execution_count": null,
   "metadata": {
    "id": "ZGbrIaItbZk2"
   },
   "outputs": [],
   "source": [
    "drops = ['yyyymmdd',\n",
    " 'hhnn',\n",
    " 'year',\n",
    " 'hour',\n",
    " 'day',\n",
    " 'month_11',\n",
    " 'STN',\n",
    " 'month_1',\n",
    " 'month_2',\n",
    " 'landtype_2.0',\n",
    " 'UV',\n",
    " 'month_12',\n",
    " 'landtype_4.0',\n",
    " 'min']"
   ]
  },
  {
   "cell_type": "code",
   "execution_count": null,
   "metadata": {
    "id": "m2mrbIj4SpAD"
   },
   "outputs": [],
   "source": [
    "target_col = 'UV'\n",
    "drop_cols = drops #[target_col,'yyyymmdd', 'hhnn', 'year', \"day\", 'hour', 'min', \"STN\"]\n",
    "train_label = train_day[target_col]\n",
    "test_day[target_col] = np.NaN"
   ]
  },
  {
   "cell_type": "code",
   "execution_count": null,
   "metadata": {
    "id": "owTwcn-pTCLZ"
   },
   "outputs": [],
   "source": [
    "# LGBM params\n",
    "n_splits= 5\n",
    "NUM_BOOST_ROUND = 2000 #1000\n",
    "SEED = 1993\n",
    "random_state = 1\n",
    "lgbm_param = {'objective':'rmse',\n",
    "              'boosting_type': 'gbdt',\n",
    "              'random_state':random_state,\n",
    "              'learning_rate':0.07, #0.1\n",
    "              'subsample':0.7,\n",
    "              'tree_learner': 'serial',\n",
    "              'colsample_bytree':0.68,\n",
    "              'early_stopping_rounds':50,\n",
    "              'subsample_freq': 1,\n",
    "              'reg_lambda':7,\n",
    "              'reg_alpha': 5,\n",
    "              'num_leaves': 6600,\n",
    "              \"min_child_samples \":26,\n",
    "              \"max_depth\": 14,\n",
    "              'seed' : SEED\n",
    "            }"
   ]
  },
  {
   "cell_type": "code",
   "execution_count": null,
   "metadata": {
    "colab": {
     "background_save": true,
     "base_uri": "https://localhost:8080/",
     "height": 86,
     "referenced_widgets": [
      "4a5e5e9e4dc241a493e22af81835fbbb",
      "5d26813350be4ab885d2a8b905b5f96d",
      "1ae67a088b8a422e83d882e14973ef63",
      "25c3a1967a404e169e4fde3d56955659",
      "46f678e80671431cb0adb71633a00e98",
      "674783211622441db5994ec3e93e211f",
      "88d26550b2c6493f827af2e8b745576c",
      "908220cf230e4b29a5adf90b98b3351f",
      "ee84323d650b440f9bdf8c950f6faedc",
      "0be0cca4856a4b44b5499e65a7bd4654",
      "68a1a17c3cef4e6b96a4eb18a0186d90"
     ]
    },
    "id": "i-Caaw2f79M6",
    "outputId": "4103a60a-e0ea-443c-a838-7d121c1c2ef9"
   },
   "outputs": [
    {
     "data": {
      "application/vnd.jupyter.widget-view+json": {
       "model_id": "4a5e5e9e4dc241a493e22af81835fbbb",
       "version_major": 2,
       "version_minor": 0
      },
      "text/plain": [
       "0it [00:00, ?it/s]"
      ]
     },
     "metadata": {},
     "output_type": "display_data"
    },
    {
     "name": "stdout",
     "output_type": "stream",
     "text": [
      "---TRAINING LIGHT GBM---\n",
      "Training until validation scores don't improve for 50 rounds.\n",
      "[100]\ttrain's rmse: 0.430155\tvalid's rmse: 0.514943\n",
      "[200]\ttrain's rmse: 0.364046\tvalid's rmse: 0.494719\n",
      "[300]\ttrain's rmse: 0.321939\tvalid's rmse: 0.485568\n",
      "[400]\ttrain's rmse: 0.291387\tvalid's rmse: 0.480745\n",
      "[500]\ttrain's rmse: 0.26722\tvalid's rmse: 0.477357\n",
      "[600]\ttrain's rmse: 0.24817\tvalid's rmse: 0.475082\n",
      "[700]\ttrain's rmse: 0.232922\tvalid's rmse: 0.473336\n",
      "[800]\ttrain's rmse: 0.219492\tvalid's rmse: 0.471934\n",
      "[900]\ttrain's rmse: 0.208378\tvalid's rmse: 0.470858\n",
      "[1000]\ttrain's rmse: 0.198608\tvalid's rmse: 0.46998\n",
      "[1100]\ttrain's rmse: 0.190238\tvalid's rmse: 0.469317\n",
      "[1200]\ttrain's rmse: 0.182711\tvalid's rmse: 0.468673\n",
      "[1300]\ttrain's rmse: 0.176007\tvalid's rmse: 0.468058\n",
      "[1400]\ttrain's rmse: 0.170084\tvalid's rmse: 0.467631\n",
      "[1500]\ttrain's rmse: 0.164642\tvalid's rmse: 0.467259\n",
      "[1600]\ttrain's rmse: 0.159592\tvalid's rmse: 0.466922\n",
      "[1700]\ttrain's rmse: 0.155116\tvalid's rmse: 0.466597\n",
      "[1800]\ttrain's rmse: 0.151158\tvalid's rmse: 0.466327\n",
      "[1900]\ttrain's rmse: 0.147514\tvalid's rmse: 0.466084\n",
      "[2000]\ttrain's rmse: 0.144205\tvalid's rmse: 0.46593\n",
      "Did not meet early stopping. Best iteration is:\n",
      "[2000]\ttrain's rmse: 0.144205\tvalid's rmse: 0.46593\n",
      "================================================================================\n",
      "---TRAINING LIGHT GBM---\n",
      "Training until validation scores don't improve for 50 rounds.\n",
      "[100]\ttrain's rmse: 0.432781\tvalid's rmse: 0.50898\n",
      "[200]\ttrain's rmse: 0.365943\tvalid's rmse: 0.487604\n",
      "[300]\ttrain's rmse: 0.324551\tvalid's rmse: 0.478997\n",
      "[400]\ttrain's rmse: 0.293685\tvalid's rmse: 0.473771\n",
      "[500]\ttrain's rmse: 0.270003\tvalid's rmse: 0.470796\n",
      "[600]\ttrain's rmse: 0.251069\tvalid's rmse: 0.468507\n",
      "[700]\ttrain's rmse: 0.234817\tvalid's rmse: 0.466606\n",
      "[800]\ttrain's rmse: 0.221476\tvalid's rmse: 0.465185\n",
      "[900]\ttrain's rmse: 0.209639\tvalid's rmse: 0.464126\n",
      "[1000]\ttrain's rmse: 0.199924\tvalid's rmse: 0.463287\n",
      "[1100]\ttrain's rmse: 0.191199\tvalid's rmse: 0.462721\n",
      "[1200]\ttrain's rmse: 0.183793\tvalid's rmse: 0.462078\n",
      "[1300]\ttrain's rmse: 0.176989\tvalid's rmse: 0.461646\n",
      "[1400]\ttrain's rmse: 0.170968\tvalid's rmse: 0.461273\n",
      "[1500]\ttrain's rmse: 0.165367\tvalid's rmse: 0.460948\n",
      "[1600]\ttrain's rmse: 0.160587\tvalid's rmse: 0.460604\n",
      "[1700]\ttrain's rmse: 0.155962\tvalid's rmse: 0.460331\n",
      "[1800]\ttrain's rmse: 0.151935\tvalid's rmse: 0.460137\n",
      "[1900]\ttrain's rmse: 0.148235\tvalid's rmse: 0.459888\n",
      "[2000]\ttrain's rmse: 0.144789\tvalid's rmse: 0.459676\n",
      "Did not meet early stopping. Best iteration is:\n",
      "[2000]\ttrain's rmse: 0.144789\tvalid's rmse: 0.459676\n",
      "================================================================================\n",
      "---TRAINING LIGHT GBM---\n",
      "Training until validation scores don't improve for 50 rounds.\n",
      "[100]\ttrain's rmse: 0.430421\tvalid's rmse: 0.514898\n",
      "[200]\ttrain's rmse: 0.363113\tvalid's rmse: 0.494522\n",
      "[300]\ttrain's rmse: 0.32191\tvalid's rmse: 0.486276\n",
      "[400]\ttrain's rmse: 0.291882\tvalid's rmse: 0.480932\n",
      "[500]\ttrain's rmse: 0.267948\tvalid's rmse: 0.477624\n",
      "[600]\ttrain's rmse: 0.249142\tvalid's rmse: 0.475149\n",
      "[700]\ttrain's rmse: 0.233482\tvalid's rmse: 0.473388\n",
      "[800]\ttrain's rmse: 0.219779\tvalid's rmse: 0.472103\n",
      "[900]\ttrain's rmse: 0.20835\tvalid's rmse: 0.471013\n",
      "[1000]\ttrain's rmse: 0.198468\tvalid's rmse: 0.470212\n",
      "[1100]\ttrain's rmse: 0.19001\tvalid's rmse: 0.46952\n",
      "[1200]\ttrain's rmse: 0.182359\tvalid's rmse: 0.468922\n",
      "[1300]\ttrain's rmse: 0.175816\tvalid's rmse: 0.468449\n",
      "[1400]\ttrain's rmse: 0.169852\tvalid's rmse: 0.468079\n",
      "[1500]\ttrain's rmse: 0.164298\tvalid's rmse: 0.467656\n",
      "[1600]\ttrain's rmse: 0.159369\tvalid's rmse: 0.467339\n",
      "[1700]\ttrain's rmse: 0.154907\tvalid's rmse: 0.467052\n",
      "[1800]\ttrain's rmse: 0.151006\tvalid's rmse: 0.466799\n",
      "[1900]\ttrain's rmse: 0.14743\tvalid's rmse: 0.466658\n",
      "[2000]\ttrain's rmse: 0.144025\tvalid's rmse: 0.466471\n",
      "Did not meet early stopping. Best iteration is:\n",
      "[2000]\ttrain's rmse: 0.144025\tvalid's rmse: 0.466471\n",
      "================================================================================\n",
      "---TRAINING LIGHT GBM---\n",
      "Training until validation scores don't improve for 50 rounds.\n",
      "[100]\ttrain's rmse: 0.431048\tvalid's rmse: 0.514679\n",
      "[200]\ttrain's rmse: 0.364626\tvalid's rmse: 0.494065\n",
      "[300]\ttrain's rmse: 0.322609\tvalid's rmse: 0.485613\n",
      "[400]\ttrain's rmse: 0.292895\tvalid's rmse: 0.48074\n",
      "[500]\ttrain's rmse: 0.269023\tvalid's rmse: 0.477292\n",
      "[600]\ttrain's rmse: 0.24924\tvalid's rmse: 0.474708\n",
      "[700]\ttrain's rmse: 0.23367\tvalid's rmse: 0.472945\n",
      "[800]\ttrain's rmse: 0.219815\tvalid's rmse: 0.471502\n",
      "[900]\ttrain's rmse: 0.208522\tvalid's rmse: 0.470443\n",
      "[1000]\ttrain's rmse: 0.198735\tvalid's rmse: 0.469667\n",
      "[1100]\ttrain's rmse: 0.189879\tvalid's rmse: 0.468872\n",
      "[1200]\ttrain's rmse: 0.182479\tvalid's rmse: 0.468294\n",
      "[1300]\ttrain's rmse: 0.175858\tvalid's rmse: 0.467888\n",
      "[1400]\ttrain's rmse: 0.16984\tvalid's rmse: 0.467479\n",
      "[1500]\ttrain's rmse: 0.164507\tvalid's rmse: 0.467\n",
      "[1600]\ttrain's rmse: 0.159552\tvalid's rmse: 0.466652\n",
      "[1700]\ttrain's rmse: 0.155099\tvalid's rmse: 0.466358\n",
      "[1800]\ttrain's rmse: 0.15095\tvalid's rmse: 0.466017\n",
      "[1900]\ttrain's rmse: 0.147216\tvalid's rmse: 0.46583\n",
      "[2000]\ttrain's rmse: 0.143861\tvalid's rmse: 0.46567\n",
      "Did not meet early stopping. Best iteration is:\n",
      "[2000]\ttrain's rmse: 0.143861\tvalid's rmse: 0.46567\n",
      "================================================================================\n",
      "---TRAINING LIGHT GBM---\n",
      "Training until validation scores don't improve for 50 rounds.\n",
      "[100]\ttrain's rmse: 0.430747\tvalid's rmse: 0.517002\n",
      "[200]\ttrain's rmse: 0.36238\tvalid's rmse: 0.4959\n",
      "[300]\ttrain's rmse: 0.321974\tvalid's rmse: 0.486951\n",
      "[400]\ttrain's rmse: 0.292667\tvalid's rmse: 0.481711\n",
      "[500]\ttrain's rmse: 0.268996\tvalid's rmse: 0.478687\n",
      "[600]\ttrain's rmse: 0.249926\tvalid's rmse: 0.476268\n",
      "[700]\ttrain's rmse: 0.23373\tvalid's rmse: 0.474464\n",
      "[800]\ttrain's rmse: 0.220243\tvalid's rmse: 0.473142\n",
      "[900]\ttrain's rmse: 0.208485\tvalid's rmse: 0.472075\n",
      "[1000]\ttrain's rmse: 0.198428\tvalid's rmse: 0.471124\n",
      "[1100]\ttrain's rmse: 0.190056\tvalid's rmse: 0.470392\n",
      "[1200]\ttrain's rmse: 0.182613\tvalid's rmse: 0.469837\n",
      "[1300]\ttrain's rmse: 0.176193\tvalid's rmse: 0.469382\n",
      "[1400]\ttrain's rmse: 0.170272\tvalid's rmse: 0.468919\n",
      "[1500]\ttrain's rmse: 0.164798\tvalid's rmse: 0.468575\n",
      "[1600]\ttrain's rmse: 0.159828\tvalid's rmse: 0.468291\n",
      "[1700]\ttrain's rmse: 0.155376\tvalid's rmse: 0.468057\n",
      "[1800]\ttrain's rmse: 0.151211\tvalid's rmse: 0.467777\n",
      "[1900]\ttrain's rmse: 0.147623\tvalid's rmse: 0.467548\n",
      "[2000]\ttrain's rmse: 0.144174\tvalid's rmse: 0.467323\n",
      "Did not meet early stopping. Best iteration is:\n",
      "[2000]\ttrain's rmse: 0.144174\tvalid's rmse: 0.467323\n",
      "================================================================================\n",
      "<Light-GBM> OVERALL RMSE     : 0.46502204802003855\n"
     ]
    }
   ],
   "source": [
    "# 각 모델에 대한 oof 정의\n",
    "lgbm_oof_train = np.zeros((train_day.shape[0]))\n",
    "lgbm_oof_test = np.zeros((test_day.shape[0]))\n",
    "\n",
    "# Kfold 정의\n",
    "kfolds = KFold(n_splits=n_splits, random_state=1993, shuffle=True)\n",
    "\n",
    "\n",
    "# Fold별로 학습진행\n",
    "for ind, (trn_ind, val_ind) in tqdm_notebook( enumerate( kfolds.split( X = train_day, y = train_label ) ) ):\n",
    "    \n",
    "    # Train/Valid-set을 정의하기\n",
    "    X_train , y_train = train_day.iloc[trn_ind].drop(drop_cols, 1), train_label[trn_ind]\n",
    "    X_valid , y_valid = train_day.iloc[val_ind].drop(drop_cols, 1), train_label[val_ind]\n",
    "    \n",
    "    \n",
    "    # (5) Light GBM\n",
    "    print(\"---TRAINING LIGHT GBM---\")\n",
    "    # dtrain/dvalid 정의\n",
    "    dtrain = lgbm.Dataset(X_train, y_train)\n",
    "    dvalid = lgbm.Dataset(X_valid, y_valid)\n",
    "    \n",
    "    # model 정의&학습\n",
    "    model = lgbm.train(lgbm_param , dtrain, NUM_BOOST_ROUND, \n",
    "                       valid_sets=(dtrain, dvalid), \n",
    "                       valid_names=('train','valid'), \n",
    "                    #    categorical_feature= ['month','landtype']\n",
    "                       verbose_eval= 100)\n",
    "    \n",
    "    # local_valid/local_test에 대한 예측\n",
    "    lgbm_valid_pred = model.predict(X_valid)\n",
    "    lgbm_test_pred = model.predict(test_day.drop(drop_cols, 1))\n",
    "        \n",
    "    lgbm_oof_train[val_ind] = lgbm_valid_pred\n",
    "    lgbm_oof_test += lgbm_test_pred/ n_splits\n",
    "    print('='*80)\n",
    "    \n",
    "print(f\"<Light-GBM> OVERALL RMSE     : {sqrt( mean_squared_error( train_label, lgbm_oof_train ) )}\")"
   ]
  },
  {
   "cell_type": "code",
   "execution_count": null,
   "metadata": {
    "colab": {
     "base_uri": "https://localhost:8080/"
    },
    "id": "az0hAoDkaA-4",
    "outputId": "1fc7871d-dfd3-47f7-89d5-1e5c2e13ef74"
   },
   "outputs": [
    {
     "data": {
      "text/plain": [
       "Index(['yyyymmdd', 'hhnn', 'STN', 'Lon', 'Lat', 'UV', 'band1', 'band2',\n",
       "       'band3', 'band4', 'band5', 'band6', 'band7', 'band8', 'band9', 'band10',\n",
       "       'band11', 'band12', 'band13', 'band14', 'band15', 'band16', 'solarza',\n",
       "       'sateza', 'esr', 'height', 'year', 'day', 'hour', 'min', 'sin_time',\n",
       "       'cos_time', 'month_1', 'month_2', 'month_3', 'month_4', 'month_5',\n",
       "       'month_6', 'month_7', 'month_8', 'month_9', 'month_10', 'month_11',\n",
       "       'month_12', 'landtype_0', 'landtype_2', 'landtype_3', 'landtype_4'],\n",
       "      dtype='object')"
      ]
     },
     "execution_count": 211,
     "metadata": {},
     "output_type": "execute_result"
    }
   ],
   "source": [
    "test_day.columns"
   ]
  },
  {
   "cell_type": "code",
   "execution_count": null,
   "metadata": {
    "colab": {
     "base_uri": "https://localhost:8080/",
     "height": 327
    },
    "id": "3RVD9yfWZ2I7",
    "outputId": "8b766815-67e3-4af5-fb1a-29c6ed7b948f"
   },
   "outputs": [
    {
     "ename": "KeyError",
     "evalue": "ignored",
     "output_type": "error",
     "traceback": [
      "\u001b[0;31m---------------------------------------------------------------------------\u001b[0m",
      "\u001b[0;31mKeyError\u001b[0m                                  Traceback (most recent call last)",
      "\u001b[0;32m<ipython-input-210-addeeaf87ab0>\u001b[0m in \u001b[0;36m<module>\u001b[0;34m()\u001b[0m\n\u001b[0;32m----> 1\u001b[0;31m \u001b[0mtest_day\u001b[0m\u001b[0;34m.\u001b[0m\u001b[0mdrop\u001b[0m\u001b[0;34m(\u001b[0m\u001b[0mdrop_cols\u001b[0m\u001b[0;34m,\u001b[0m \u001b[0;36m1\u001b[0m\u001b[0;34m)\u001b[0m\u001b[0;34m.\u001b[0m\u001b[0mcolumns\u001b[0m\u001b[0;34m\u001b[0m\u001b[0;34m\u001b[0m\u001b[0m\n\u001b[0m",
      "\u001b[0;32m/usr/local/lib/python3.7/dist-packages/pandas/util/_decorators.py\u001b[0m in \u001b[0;36mwrapper\u001b[0;34m(*args, **kwargs)\u001b[0m\n\u001b[1;32m    309\u001b[0m                     \u001b[0mstacklevel\u001b[0m\u001b[0;34m=\u001b[0m\u001b[0mstacklevel\u001b[0m\u001b[0;34m,\u001b[0m\u001b[0;34m\u001b[0m\u001b[0;34m\u001b[0m\u001b[0m\n\u001b[1;32m    310\u001b[0m                 )\n\u001b[0;32m--> 311\u001b[0;31m             \u001b[0;32mreturn\u001b[0m \u001b[0mfunc\u001b[0m\u001b[0;34m(\u001b[0m\u001b[0;34m*\u001b[0m\u001b[0margs\u001b[0m\u001b[0;34m,\u001b[0m \u001b[0;34m**\u001b[0m\u001b[0mkwargs\u001b[0m\u001b[0;34m)\u001b[0m\u001b[0;34m\u001b[0m\u001b[0;34m\u001b[0m\u001b[0m\n\u001b[0m\u001b[1;32m    312\u001b[0m \u001b[0;34m\u001b[0m\u001b[0m\n\u001b[1;32m    313\u001b[0m         \u001b[0;32mreturn\u001b[0m \u001b[0mwrapper\u001b[0m\u001b[0;34m\u001b[0m\u001b[0;34m\u001b[0m\u001b[0m\n",
      "\u001b[0;32m/usr/local/lib/python3.7/dist-packages/pandas/core/frame.py\u001b[0m in \u001b[0;36mdrop\u001b[0;34m(self, labels, axis, index, columns, level, inplace, errors)\u001b[0m\n\u001b[1;32m   4911\u001b[0m             \u001b[0mlevel\u001b[0m\u001b[0;34m=\u001b[0m\u001b[0mlevel\u001b[0m\u001b[0;34m,\u001b[0m\u001b[0;34m\u001b[0m\u001b[0;34m\u001b[0m\u001b[0m\n\u001b[1;32m   4912\u001b[0m             \u001b[0minplace\u001b[0m\u001b[0;34m=\u001b[0m\u001b[0minplace\u001b[0m\u001b[0;34m,\u001b[0m\u001b[0;34m\u001b[0m\u001b[0;34m\u001b[0m\u001b[0m\n\u001b[0;32m-> 4913\u001b[0;31m             \u001b[0merrors\u001b[0m\u001b[0;34m=\u001b[0m\u001b[0merrors\u001b[0m\u001b[0;34m,\u001b[0m\u001b[0;34m\u001b[0m\u001b[0;34m\u001b[0m\u001b[0m\n\u001b[0m\u001b[1;32m   4914\u001b[0m         )\n\u001b[1;32m   4915\u001b[0m \u001b[0;34m\u001b[0m\u001b[0m\n",
      "\u001b[0;32m/usr/local/lib/python3.7/dist-packages/pandas/core/generic.py\u001b[0m in \u001b[0;36mdrop\u001b[0;34m(self, labels, axis, index, columns, level, inplace, errors)\u001b[0m\n\u001b[1;32m   4148\u001b[0m         \u001b[0;32mfor\u001b[0m \u001b[0maxis\u001b[0m\u001b[0;34m,\u001b[0m \u001b[0mlabels\u001b[0m \u001b[0;32min\u001b[0m \u001b[0maxes\u001b[0m\u001b[0;34m.\u001b[0m\u001b[0mitems\u001b[0m\u001b[0;34m(\u001b[0m\u001b[0;34m)\u001b[0m\u001b[0;34m:\u001b[0m\u001b[0;34m\u001b[0m\u001b[0;34m\u001b[0m\u001b[0m\n\u001b[1;32m   4149\u001b[0m             \u001b[0;32mif\u001b[0m \u001b[0mlabels\u001b[0m \u001b[0;32mis\u001b[0m \u001b[0;32mnot\u001b[0m \u001b[0;32mNone\u001b[0m\u001b[0;34m:\u001b[0m\u001b[0;34m\u001b[0m\u001b[0;34m\u001b[0m\u001b[0m\n\u001b[0;32m-> 4150\u001b[0;31m                 \u001b[0mobj\u001b[0m \u001b[0;34m=\u001b[0m \u001b[0mobj\u001b[0m\u001b[0;34m.\u001b[0m\u001b[0m_drop_axis\u001b[0m\u001b[0;34m(\u001b[0m\u001b[0mlabels\u001b[0m\u001b[0;34m,\u001b[0m \u001b[0maxis\u001b[0m\u001b[0;34m,\u001b[0m \u001b[0mlevel\u001b[0m\u001b[0;34m=\u001b[0m\u001b[0mlevel\u001b[0m\u001b[0;34m,\u001b[0m \u001b[0merrors\u001b[0m\u001b[0;34m=\u001b[0m\u001b[0merrors\u001b[0m\u001b[0;34m)\u001b[0m\u001b[0;34m\u001b[0m\u001b[0;34m\u001b[0m\u001b[0m\n\u001b[0m\u001b[1;32m   4151\u001b[0m \u001b[0;34m\u001b[0m\u001b[0m\n\u001b[1;32m   4152\u001b[0m         \u001b[0;32mif\u001b[0m \u001b[0minplace\u001b[0m\u001b[0;34m:\u001b[0m\u001b[0;34m\u001b[0m\u001b[0;34m\u001b[0m\u001b[0m\n",
      "\u001b[0;32m/usr/local/lib/python3.7/dist-packages/pandas/core/generic.py\u001b[0m in \u001b[0;36m_drop_axis\u001b[0;34m(self, labels, axis, level, errors)\u001b[0m\n\u001b[1;32m   4183\u001b[0m                 \u001b[0mnew_axis\u001b[0m \u001b[0;34m=\u001b[0m \u001b[0maxis\u001b[0m\u001b[0;34m.\u001b[0m\u001b[0mdrop\u001b[0m\u001b[0;34m(\u001b[0m\u001b[0mlabels\u001b[0m\u001b[0;34m,\u001b[0m \u001b[0mlevel\u001b[0m\u001b[0;34m=\u001b[0m\u001b[0mlevel\u001b[0m\u001b[0;34m,\u001b[0m \u001b[0merrors\u001b[0m\u001b[0;34m=\u001b[0m\u001b[0merrors\u001b[0m\u001b[0;34m)\u001b[0m\u001b[0;34m\u001b[0m\u001b[0;34m\u001b[0m\u001b[0m\n\u001b[1;32m   4184\u001b[0m             \u001b[0;32melse\u001b[0m\u001b[0;34m:\u001b[0m\u001b[0;34m\u001b[0m\u001b[0;34m\u001b[0m\u001b[0m\n\u001b[0;32m-> 4185\u001b[0;31m                 \u001b[0mnew_axis\u001b[0m \u001b[0;34m=\u001b[0m \u001b[0maxis\u001b[0m\u001b[0;34m.\u001b[0m\u001b[0mdrop\u001b[0m\u001b[0;34m(\u001b[0m\u001b[0mlabels\u001b[0m\u001b[0;34m,\u001b[0m \u001b[0merrors\u001b[0m\u001b[0;34m=\u001b[0m\u001b[0merrors\u001b[0m\u001b[0;34m)\u001b[0m\u001b[0;34m\u001b[0m\u001b[0;34m\u001b[0m\u001b[0m\n\u001b[0m\u001b[1;32m   4186\u001b[0m             \u001b[0mresult\u001b[0m \u001b[0;34m=\u001b[0m \u001b[0mself\u001b[0m\u001b[0;34m.\u001b[0m\u001b[0mreindex\u001b[0m\u001b[0;34m(\u001b[0m\u001b[0;34m**\u001b[0m\u001b[0;34m{\u001b[0m\u001b[0maxis_name\u001b[0m\u001b[0;34m:\u001b[0m \u001b[0mnew_axis\u001b[0m\u001b[0;34m}\u001b[0m\u001b[0;34m)\u001b[0m\u001b[0;34m\u001b[0m\u001b[0;34m\u001b[0m\u001b[0m\n\u001b[1;32m   4187\u001b[0m \u001b[0;34m\u001b[0m\u001b[0m\n",
      "\u001b[0;32m/usr/local/lib/python3.7/dist-packages/pandas/core/indexes/base.py\u001b[0m in \u001b[0;36mdrop\u001b[0;34m(self, labels, errors)\u001b[0m\n\u001b[1;32m   6015\u001b[0m         \u001b[0;32mif\u001b[0m \u001b[0mmask\u001b[0m\u001b[0;34m.\u001b[0m\u001b[0many\u001b[0m\u001b[0;34m(\u001b[0m\u001b[0;34m)\u001b[0m\u001b[0;34m:\u001b[0m\u001b[0;34m\u001b[0m\u001b[0;34m\u001b[0m\u001b[0m\n\u001b[1;32m   6016\u001b[0m             \u001b[0;32mif\u001b[0m \u001b[0merrors\u001b[0m \u001b[0;34m!=\u001b[0m \u001b[0;34m\"ignore\"\u001b[0m\u001b[0;34m:\u001b[0m\u001b[0;34m\u001b[0m\u001b[0;34m\u001b[0m\u001b[0m\n\u001b[0;32m-> 6017\u001b[0;31m                 \u001b[0;32mraise\u001b[0m \u001b[0mKeyError\u001b[0m\u001b[0;34m(\u001b[0m\u001b[0;34mf\"{labels[mask]} not found in axis\"\u001b[0m\u001b[0;34m)\u001b[0m\u001b[0;34m\u001b[0m\u001b[0;34m\u001b[0m\u001b[0m\n\u001b[0m\u001b[1;32m   6018\u001b[0m             \u001b[0mindexer\u001b[0m \u001b[0;34m=\u001b[0m \u001b[0mindexer\u001b[0m\u001b[0;34m[\u001b[0m\u001b[0;34m~\u001b[0m\u001b[0mmask\u001b[0m\u001b[0;34m]\u001b[0m\u001b[0;34m\u001b[0m\u001b[0;34m\u001b[0m\u001b[0m\n\u001b[1;32m   6019\u001b[0m         \u001b[0;32mreturn\u001b[0m \u001b[0mself\u001b[0m\u001b[0;34m.\u001b[0m\u001b[0mdelete\u001b[0m\u001b[0;34m(\u001b[0m\u001b[0mindexer\u001b[0m\u001b[0;34m)\u001b[0m\u001b[0;34m\u001b[0m\u001b[0;34m\u001b[0m\u001b[0m\n",
      "\u001b[0;31mKeyError\u001b[0m: \"['landtype_2.0' 'landtype_4.0'] not found in axis\""
     ]
    }
   ],
   "source": [
    "test_day.drop(drop_cols, 1).columns"
   ]
  },
  {
   "cell_type": "code",
   "execution_count": null,
   "metadata": {
    "colab": {
     "base_uri": "https://localhost:8080/",
     "height": 748
    },
    "id": "2Ac6IvVrkI1D",
    "outputId": "b18a8ff0-5ed7-4a6d-dd3f-462f3f15d5d0"
   },
   "outputs": [
    {
     "data": {
      "text/plain": [
       "<matplotlib.axes._subplots.AxesSubplot at 0x7f69337cccd0>"
      ]
     },
     "execution_count": 150,
     "metadata": {},
     "output_type": "execute_result"
    },
    {
     "data": {
      "image/png": "[encoded data removed]",
      "text/plain": [
       "<Figure size 720x864 with 1 Axes>"
      ]
     },
     "metadata": {},
     "output_type": "display_data"
    }
   ],
   "source": [
    "fig, ax = plt.subplots(figsize=(10, 12))\n",
    "plot_importance(model, ax=ax)"
   ]
  },
  {
   "cell_type": "code",
   "execution_count": null,
   "metadata": {
    "id": "Wym64yUM_y5d"
   },
   "outputs": [],
   "source": [
    "test_day[\"UV\"] = np.clip(lgbm_oof_test, 0 , max(lgbm_oof_test))"
   ]
  },
  {
   "cell_type": "code",
   "execution_count": null,
   "metadata": {
    "id": "8c00XNFbslYR"
   },
   "outputs": [],
   "source": [
    "# test_night.loc[test_night.STN==146, \"UV\"] = 0.1"
   ]
  },
  {
   "cell_type": "code",
   "execution_count": null,
   "metadata": {
    "id": "x9A18khI28Id"
   },
   "outputs": [],
   "source": [
    " submission = pd.concat([test_night, test_day])\n",
    " submission.sort_values(by=[\"yyyymmdd\",\"hhnn\",\"STN\"], inplace=True)"
   ]
  },
  {
   "cell_type": "code",
   "execution_count": null,
   "metadata": {
    "id": "bx8nEea09fGq"
   },
   "outputs": [],
   "source": [
    "def stringchange(x):\n",
    "    x = str(int(x))\n",
    "    return x\n",
    "\n",
    "def stringchange1(x):\n",
    "    x = str(int(x))\n",
    "    if len(x) == 1:\n",
    "        x = \"000\"+ x\n",
    "    elif len(x) == 2:\n",
    "        x = \"00\" + x\n",
    "    elif len(x) == 3:\n",
    "        x = \"0\" + x\n",
    "    return x\n",
    "\n",
    "submission['hhnn'] = submission['hhnn'].apply(stringchange1)\n",
    "submission['yyyymmdd'] = submission['yyyymmdd'].apply(stringchange)\n",
    "submission['YearMonthDayHourMinute'] = submission['yyyymmdd']+submission['hhnn']"
   ]
  },
  {
   "cell_type": "code",
   "execution_count": null,
   "metadata": {
    "id": "eD_Lpe9f8WsV"
   },
   "outputs": [],
   "source": [
    "use_cols = ['YearMonthDayHourMinute', \"STN\", \"UV\"]\n",
    "submission = submission[use_cols]"
   ]
  },
  {
   "cell_type": "code",
   "execution_count": null,
   "metadata": {
    "id": "Ao_nd4KN8VSA"
   },
   "outputs": [],
   "source": [
    "submission = submission.astype({\"YearMonthDayHourMinute\": \"int64\"})"
   ]
  },
  {
   "cell_type": "code",
   "execution_count": null,
   "metadata": {
    "id": "o7Rt5y5X6Q96"
   },
   "outputs": [],
   "source": [
    "submission.to_csv(\"/content/drive/MyDrive/submission/submission6.csv\", index = None)"
   ]
  }
 ],
 "metadata": {
  "colab": {
   "name": "UV최종.ipynb",
   "provenance": []
  },
  "kernelspec": {
   "display_name": "Python 3 (ipykernel)",
   "language": "python",
   "name": "python3"
  },
  "language_info": {
   "codemirror_mode": {
    "name": "ipython",
    "version": 3
   },
   "file_extension": ".py",
   "mimetype": "text/x-python",
   "name": "python",
   "nbconvert_exporter": "python",
   "pygments_lexer": "ipython3",
   "version": "3.9.11"
  },
  "widgets": {
   "application/vnd.jupyter.widget-state+json": {
    "0be0cca4856a4b44b5499e65a7bd4654": {
     "model_module": "@jupyter-widgets/base",
     "model_module_version": "1.2.0",
     "model_name": "LayoutModel",
     "state": {
      "_model_module": "@jupyter-widgets/base",
      "_model_module_version": "1.2.0",
      "_model_name": "LayoutModel",
      "_view_count": null,
      "_view_module": "@jupyter-widgets/base",
      "_view_module_version": "1.2.0",
      "_view_name": "LayoutView",
      "align_content": null,
      "align_items": null,
      "align_self": null,
      "border": null,
      "bottom": null,
      "display": null,
      "flex": null,
      "flex_flow": null,
      "grid_area": null,
      "grid_auto_columns": null,
      "grid_auto_flow": null,
      "grid_auto_rows": null,
      "grid_column": null,
      "grid_gap": null,
      "grid_row": null,
      "grid_template_areas": null,
      "grid_template_columns": null,
      "grid_template_rows": null,
      "height": null,
      "justify_content": null,
      "justify_items": null,
      "left": null,
      "margin": null,
      "max_height": null,
      "max_width": null,
      "min_height": null,
      "min_width": null,
      "object_fit": null,
      "object_position": null,
      "order": null,
      "overflow": null,
      "overflow_x": null,
      "overflow_y": null,
      "padding": null,
      "right": null,
      "top": null,
      "visibility": null,
      "width": null
     }
    },
    "1ae67a088b8a422e83d882e14973ef63": {
     "model_module": "@jupyter-widgets/controls",
     "model_module_version": "1.5.0",
     "model_name": "FloatProgressModel",
     "state": {
      "_dom_classes": [],
      "_model_module": "@jupyter-widgets/controls",
      "_model_module_version": "1.5.0",
      "_model_name": "FloatProgressModel",
      "_view_count": null,
      "_view_module": "@jupyter-widgets/controls",
      "_view_module_version": "1.5.0",
      "_view_name": "ProgressView",
      "bar_style": "info",
      "description": "",
      "description_tooltip": null,
      "layout": "IPY_MODEL_908220cf230e4b29a5adf90b98b3351f",
      "max": 1,
      "min": 0,
      "orientation": "horizontal",
      "style": "IPY_MODEL_ee84323d650b440f9bdf8c950f6faedc",
      "value": 0
     }
    },
    "25c3a1967a404e169e4fde3d56955659": {
     "model_module": "@jupyter-widgets/controls",
     "model_module_version": "1.5.0",
     "model_name": "HTMLModel",
     "state": {
      "_dom_classes": [],
      "_model_module": "@jupyter-widgets/controls",
      "_model_module_version": "1.5.0",
      "_model_name": "HTMLModel",
      "_view_count": null,
      "_view_module": "@jupyter-widgets/controls",
      "_view_module_version": "1.5.0",
      "_view_name": "HTMLView",
      "description": "",
      "description_tooltip": null,
      "layout": "IPY_MODEL_0be0cca4856a4b44b5499e65a7bd4654",
      "placeholder": "​",
      "style": "IPY_MODEL_68a1a17c3cef4e6b96a4eb18a0186d90",
      "value": " 0/? [00:00&lt;?, ?it/s]"
     }
    },
    "46f678e80671431cb0adb71633a00e98": {
     "model_module": "@jupyter-widgets/base",
     "model_module_version": "1.2.0",
     "model_name": "LayoutModel",
     "state": {
      "_model_module": "@jupyter-widgets/base",
      "_model_module_version": "1.2.0",
      "_model_name": "LayoutModel",
      "_view_count": null,
      "_view_module": "@jupyter-widgets/base",
      "_view_module_version": "1.2.0",
      "_view_name": "LayoutView",
      "align_content": null,
      "align_items": null,
      "align_self": null,
      "border": null,
      "bottom": null,
      "display": null,
      "flex": null,
      "flex_flow": null,
      "grid_area": null,
      "grid_auto_columns": null,
      "grid_auto_flow": null,
      "grid_auto_rows": null,
      "grid_column": null,
      "grid_gap": null,
      "grid_row": null,
      "grid_template_areas": null,
      "grid_template_columns": null,
      "grid_template_rows": null,
      "height": null,
      "justify_content": null,
      "justify_items": null,
      "left": null,
      "margin": null,
      "max_height": null,
      "max_width": null,
      "min_height": null,
      "min_width": null,
      "object_fit": null,
      "object_position": null,
      "order": null,
      "overflow": null,
      "overflow_x": null,
      "overflow_y": null,
      "padding": null,
      "right": null,
      "top": null,
      "visibility": null,
      "width": null
     }
    },
    "4a5e5e9e4dc241a493e22af81835fbbb": {
     "model_module": "@jupyter-widgets/controls",
     "model_module_version": "1.5.0",
     "model_name": "HBoxModel",
     "state": {
      "_dom_classes": [],
      "_model_module": "@jupyter-widgets/controls",
      "_model_module_version": "1.5.0",
      "_model_name": "HBoxModel",
      "_view_count": null,
      "_view_module": "@jupyter-widgets/controls",
      "_view_module_version": "1.5.0",
      "_view_name": "HBoxView",
      "box_style": "",
      "children": [
       "IPY_MODEL_5d26813350be4ab885d2a8b905b5f96d",
       "IPY_MODEL_1ae67a088b8a422e83d882e14973ef63",
       "IPY_MODEL_25c3a1967a404e169e4fde3d56955659"
      ],
      "layout": "IPY_MODEL_46f678e80671431cb0adb71633a00e98"
     }
    },
    "5d26813350be4ab885d2a8b905b5f96d": {
     "model_module": "@jupyter-widgets/controls",
     "model_module_version": "1.5.0",
     "model_name": "HTMLModel",
     "state": {
      "_dom_classes": [],
      "_model_module": "@jupyter-widgets/controls",
      "_model_module_version": "1.5.0",
      "_model_name": "HTMLModel",
      "_view_count": null,
      "_view_module": "@jupyter-widgets/controls",
      "_view_module_version": "1.5.0",
      "_view_name": "HTMLView",
      "description": "",
      "description_tooltip": null,
      "layout": "IPY_MODEL_674783211622441db5994ec3e93e211f",
      "placeholder": "​",
      "style": "IPY_MODEL_88d26550b2c6493f827af2e8b745576c",
      "value": ""
     }
    },
    "674783211622441db5994ec3e93e211f": {
     "model_module": "@jupyter-widgets/base",
     "model_module_version": "1.2.0",
     "model_name": "LayoutModel",
     "state": {
      "_model_module": "@jupyter-widgets/base",
      "_model_module_version": "1.2.0",
      "_model_name": "LayoutModel",
      "_view_count": null,
      "_view_module": "@jupyter-widgets/base",
      "_view_module_version": "1.2.0",
      "_view_name": "LayoutView",
      "align_content": null,
      "align_items": null,
      "align_self": null,
      "border": null,
      "bottom": null,
      "display": null,
      "flex": null,
      "flex_flow": null,
      "grid_area": null,
      "grid_auto_columns": null,
      "grid_auto_flow": null,
      "grid_auto_rows": null,
      "grid_column": null,
      "grid_gap": null,
      "grid_row": null,
      "grid_template_areas": null,
      "grid_template_columns": null,
      "grid_template_rows": null,
      "height": null,
      "justify_content": null,
      "justify_items": null,
      "left": null,
      "margin": null,
      "max_height": null,
      "max_width": null,
      "min_height": null,
      "min_width": null,
      "object_fit": null,
      "object_position": null,
      "order": null,
      "overflow": null,
      "overflow_x": null,
      "overflow_y": null,
      "padding": null,
      "right": null,
      "top": null,
      "visibility": null,
      "width": null
     }
    },
    "68a1a17c3cef4e6b96a4eb18a0186d90": {
     "model_module": "@jupyter-widgets/controls",
     "model_module_version": "1.5.0",
     "model_name": "DescriptionStyleModel",
     "state": {
      "_model_module": "@jupyter-widgets/controls",
      "_model_module_version": "1.5.0",
      "_model_name": "DescriptionStyleModel",
      "_view_count": null,
      "_view_module": "@jupyter-widgets/base",
      "_view_module_version": "1.2.0",
      "_view_name": "StyleView",
      "description_width": ""
     }
    },
    "88d26550b2c6493f827af2e8b745576c": {
     "model_module": "@jupyter-widgets/controls",
     "model_module_version": "1.5.0",
     "model_name": "DescriptionStyleModel",
     "state": {
      "_model_module": "@jupyter-widgets/controls",
      "_model_module_version": "1.5.0",
      "_model_name": "DescriptionStyleModel",
      "_view_count": null,
      "_view_module": "@jupyter-widgets/base",
      "_view_module_version": "1.2.0",
      "_view_name": "StyleView",
      "description_width": ""
     }
    },
    "908220cf230e4b29a5adf90b98b3351f": {
     "model_module": "@jupyter-widgets/base",
     "model_module_version": "1.2.0",
     "model_name": "LayoutModel",
     "state": {
      "_model_module": "@jupyter-widgets/base",
      "_model_module_version": "1.2.0",
      "_model_name": "LayoutModel",
      "_view_count": null,
      "_view_module": "@jupyter-widgets/base",
      "_view_module_version": "1.2.0",
      "_view_name": "LayoutView",
      "align_content": null,
      "align_items": null,
      "align_self": null,
      "border": null,
      "bottom": null,
      "display": null,
      "flex": null,
      "flex_flow": null,
      "grid_area": null,
      "grid_auto_columns": null,
      "grid_auto_flow": null,
      "grid_auto_rows": null,
      "grid_column": null,
      "grid_gap": null,
      "grid_row": null,
      "grid_template_areas": null,
      "grid_template_columns": null,
      "grid_template_rows": null,
      "height": null,
      "justify_content": null,
      "justify_items": null,
      "left": null,
      "margin": null,
      "max_height": null,
      "max_width": null,
      "min_height": null,
      "min_width": null,
      "object_fit": null,
      "object_position": null,
      "order": null,
      "overflow": null,
      "overflow_x": null,
      "overflow_y": null,
      "padding": null,
      "right": null,
      "top": null,
      "visibility": null,
      "width": "20px"
     }
    },
    "ee84323d650b440f9bdf8c950f6faedc": {
     "model_module": "@jupyter-widgets/controls",
     "model_module_version": "1.5.0",
     "model_name": "ProgressStyleModel",
     "state": {
      "_model_module": "@jupyter-widgets/controls",
      "_model_module_version": "1.5.0",
      "_model_name": "ProgressStyleModel",
      "_view_count": null,
      "_view_module": "@jupyter-widgets/base",
      "_view_module_version": "1.2.0",
      "_view_name": "StyleView",
      "bar_color": null,
      "description_width": ""
     }
    }
   }
  }
 },
 "nbformat": 4,
 "nbformat_minor": 1
}
